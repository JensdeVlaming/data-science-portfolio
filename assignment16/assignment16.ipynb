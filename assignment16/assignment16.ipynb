{
 "cells": [
  {
   "cell_type": "markdown",
   "metadata": {},
   "source": [
    "## Portfolio assignment 16\n",
    "30 min: Train a decision tree to predict one of the categorical columns of your own dataset.\n",
    "- Split your dataset into a train (70%) and test (30%) set.\n",
    "- Use the train set to fit a DecisionTreeClassifier. You are free to to choose which columns you want to use as feature variables and you are also free to choose the max_depth of the tree. \n",
    "- Use your decision tree model to make predictions for both the train and test set.\n",
    "- Calculate the accuracy for both the train set predictions and test set predictions.\n",
    "- Is the accurracy different? Did you expect this difference?\n",
    "- Use the plot_tree function above to create a plot of the decision tree. Take a few minutes to analyse the decision tree. Do you understand the tree?\n",
    "    \n",
    "![](https://i.imgur.com/0v1CGNV.png)"
   ]
  },
  {
   "cell_type": "code",
   "execution_count": 220,
   "metadata": {},
   "outputs": [],
   "source": [
    "import pandas as pd\n",
    "import seaborn as sns\n",
    "import numpy as np\n",
    "from sklearn.model_selection import train_test_split"
   ]
  },
  {
   "cell_type": "code",
   "execution_count": 221,
   "metadata": {},
   "outputs": [],
   "source": [
    "pokemon = pd.read_csv(\"../pokemon.csv\", sep=\",\")\n",
    "# pokemon.head()\n",
    "# penguins.fillna(penguins.mean(), inplace=True)\n",
    "# penguins = penguins[penguins['sex'].notna()]\n",
    "\n",
    "pokemon_train, pokemon_test = train_test_split(pokemon, test_size=0.3, random_state=42, stratify=pokemon['generation'])"
   ]
  },
  {
   "cell_type": "code",
   "execution_count": 222,
   "metadata": {},
   "outputs": [],
   "source": [
    "from sklearn.tree import DecisionTreeClassifier"
   ]
  },
  {
   "cell_type": "code",
   "execution_count": 223,
   "metadata": {},
   "outputs": [],
   "source": [
    "from sklearn import tree\n",
    "import graphviz\n",
    "\n",
    "def plot_tree_classification(model, features, class_names):\n",
    "    # Generate plot data\n",
    "    dot_data = tree.export_graphviz(model, out_file=None, \n",
    "                          feature_names=features,  \n",
    "                          class_names=class_names,  \n",
    "                          filled=True, rounded=True,  \n",
    "                          special_characters=True)  \n",
    "\n",
    "    # Turn into graph using graphviz\n",
    "    graph = graphviz.Source(dot_data)  \n",
    "\n",
    "    # Write out a pdf\n",
    "    graph.render(\"decision_tree\")\n",
    "\n",
    "    # Display in the notebook\n",
    "    return graph "
   ]
  },
  {
   "cell_type": "code",
   "execution_count": 224,
   "metadata": {},
   "outputs": [],
   "source": [
    "def calculate_accuracy(predictions, actuals):\n",
    "    if(len(predictions) != len(actuals)):\n",
    "        raise Exception(\"The amount of predictions did not equal the amount of actuals\")\n",
    "    \n",
    "    return (predictions == actuals).sum() / len(actuals)"
   ]
  },
  {
   "attachments": {},
   "cell_type": "markdown",
   "metadata": {},
   "source": [
    "# Decision tree based on generation"
   ]
  },
  {
   "cell_type": "code",
   "execution_count": 225,
   "metadata": {},
   "outputs": [
    {
     "data": {
      "text/html": [
       "<style>#sk-container-id-24 {color: black;background-color: white;}#sk-container-id-24 pre{padding: 0;}#sk-container-id-24 div.sk-toggleable {background-color: white;}#sk-container-id-24 label.sk-toggleable__label {cursor: pointer;display: block;width: 100%;margin-bottom: 0;padding: 0.3em;box-sizing: border-box;text-align: center;}#sk-container-id-24 label.sk-toggleable__label-arrow:before {content: \"▸\";float: left;margin-right: 0.25em;color: #696969;}#sk-container-id-24 label.sk-toggleable__label-arrow:hover:before {color: black;}#sk-container-id-24 div.sk-estimator:hover label.sk-toggleable__label-arrow:before {color: black;}#sk-container-id-24 div.sk-toggleable__content {max-height: 0;max-width: 0;overflow: hidden;text-align: left;background-color: #f0f8ff;}#sk-container-id-24 div.sk-toggleable__content pre {margin: 0.2em;color: black;border-radius: 0.25em;background-color: #f0f8ff;}#sk-container-id-24 input.sk-toggleable__control:checked~div.sk-toggleable__content {max-height: 200px;max-width: 100%;overflow: auto;}#sk-container-id-24 input.sk-toggleable__control:checked~label.sk-toggleable__label-arrow:before {content: \"▾\";}#sk-container-id-24 div.sk-estimator input.sk-toggleable__control:checked~label.sk-toggleable__label {background-color: #d4ebff;}#sk-container-id-24 div.sk-label input.sk-toggleable__control:checked~label.sk-toggleable__label {background-color: #d4ebff;}#sk-container-id-24 input.sk-hidden--visually {border: 0;clip: rect(1px 1px 1px 1px);clip: rect(1px, 1px, 1px, 1px);height: 1px;margin: -1px;overflow: hidden;padding: 0;position: absolute;width: 1px;}#sk-container-id-24 div.sk-estimator {font-family: monospace;background-color: #f0f8ff;border: 1px dotted black;border-radius: 0.25em;box-sizing: border-box;margin-bottom: 0.5em;}#sk-container-id-24 div.sk-estimator:hover {background-color: #d4ebff;}#sk-container-id-24 div.sk-parallel-item::after {content: \"\";width: 100%;border-bottom: 1px solid gray;flex-grow: 1;}#sk-container-id-24 div.sk-label:hover label.sk-toggleable__label {background-color: #d4ebff;}#sk-container-id-24 div.sk-serial::before {content: \"\";position: absolute;border-left: 1px solid gray;box-sizing: border-box;top: 0;bottom: 0;left: 50%;z-index: 0;}#sk-container-id-24 div.sk-serial {display: flex;flex-direction: column;align-items: center;background-color: white;padding-right: 0.2em;padding-left: 0.2em;position: relative;}#sk-container-id-24 div.sk-item {position: relative;z-index: 1;}#sk-container-id-24 div.sk-parallel {display: flex;align-items: stretch;justify-content: center;background-color: white;position: relative;}#sk-container-id-24 div.sk-item::before, #sk-container-id-24 div.sk-parallel-item::before {content: \"\";position: absolute;border-left: 1px solid gray;box-sizing: border-box;top: 0;bottom: 0;left: 50%;z-index: -1;}#sk-container-id-24 div.sk-parallel-item {display: flex;flex-direction: column;z-index: 1;position: relative;background-color: white;}#sk-container-id-24 div.sk-parallel-item:first-child::after {align-self: flex-end;width: 50%;}#sk-container-id-24 div.sk-parallel-item:last-child::after {align-self: flex-start;width: 50%;}#sk-container-id-24 div.sk-parallel-item:only-child::after {width: 0;}#sk-container-id-24 div.sk-dashed-wrapped {border: 1px dashed gray;margin: 0 0.4em 0.5em 0.4em;box-sizing: border-box;padding-bottom: 0.4em;background-color: white;}#sk-container-id-24 div.sk-label label {font-family: monospace;font-weight: bold;display: inline-block;line-height: 1.2em;}#sk-container-id-24 div.sk-label-container {text-align: center;}#sk-container-id-24 div.sk-container {/* jupyter's `normalize.less` sets `[hidden] { display: none; }` but bootstrap.min.css set `[hidden] { display: none !important; }` so we also need the `!important` here to be able to override the default hidden behavior on the sphinx rendered scikit-learn.org. See: https://github.com/scikit-learn/scikit-learn/issues/21755 */display: inline-block !important;position: relative;}#sk-container-id-24 div.sk-text-repr-fallback {display: none;}</style><div id=\"sk-container-id-24\" class=\"sk-top-container\"><div class=\"sk-text-repr-fallback\"><pre>DecisionTreeClassifier(max_depth=3)</pre><b>In a Jupyter environment, please rerun this cell to show the HTML representation or trust the notebook. <br />On GitHub, the HTML representation is unable to render, please try loading this page with nbviewer.org.</b></div><div class=\"sk-container\" hidden><div class=\"sk-item\"><div class=\"sk-estimator sk-toggleable\"><input class=\"sk-toggleable__control sk-hidden--visually\" id=\"sk-estimator-id-24\" type=\"checkbox\" checked><label for=\"sk-estimator-id-24\" class=\"sk-toggleable__label sk-toggleable__label-arrow\">DecisionTreeClassifier</label><div class=\"sk-toggleable__content\"><pre>DecisionTreeClassifier(max_depth=3)</pre></div></div></div></div></div>"
      ],
      "text/plain": [
       "DecisionTreeClassifier(max_depth=3)"
      ]
     },
     "execution_count": 225,
     "metadata": {},
     "output_type": "execute_result"
    }
   ],
   "source": [
    "features= ['speed', 'hp', 'attack']\n",
    "dt = DecisionTreeClassifier(max_depth = 3)\n",
    "dt.fit(pokemon_train[features], pokemon_train['type1'])"
   ]
  },
  {
   "cell_type": "code",
   "execution_count": 226,
   "metadata": {},
   "outputs": [
    {
     "data": {
      "text/plain": [
       "array(['normal', 'rock', 'water', 'electric', 'grass', 'water', 'grass',\n",
       "       'water', 'water', 'electric', 'grass', 'ground', 'water', 'water',\n",
       "       'electric', 'bug', 'water', 'water', 'normal', 'normal', 'water',\n",
       "       'water', 'ground', 'water', 'grass', 'water', 'grass', 'water',\n",
       "       'grass', 'water', 'water', 'grass', 'water', 'water', 'water',\n",
       "       'water', 'water', 'water', 'grass', 'grass', 'grass', 'water',\n",
       "       'water', 'rock', 'grass', 'water', 'water', 'water', 'water',\n",
       "       'normal', 'rock', 'rock', 'rock', 'grass', 'water', 'grass',\n",
       "       'water', 'water', 'water', 'electric', 'grass', 'water', 'bug',\n",
       "       'normal', 'rock', 'water', 'ground', 'grass', 'rock', 'water',\n",
       "       'water', 'water', 'water', 'psychic', 'ground', 'water', 'water',\n",
       "       'water', 'water', 'grass', 'ground', 'normal', 'electric', 'water',\n",
       "       'water', 'water', 'water', 'normal', 'grass', 'water', 'normal',\n",
       "       'grass', 'water', 'grass', 'water', 'normal', 'water', 'normal',\n",
       "       'grass', 'grass', 'normal', 'grass', 'water', 'water', 'grass',\n",
       "       'normal', 'water', 'rock', 'water', 'water', 'water', 'grass',\n",
       "       'water', 'water', 'grass', 'water', 'grass', 'water', 'water',\n",
       "       'water', 'water', 'electric', 'grass', 'grass', 'ground', 'water',\n",
       "       'water', 'psychic', 'electric', 'water', 'grass', 'electric',\n",
       "       'water', 'water', 'grass', 'water', 'grass', 'water', 'water',\n",
       "       'grass', 'grass', 'water', 'ground', 'water', 'water', 'normal',\n",
       "       'water', 'electric', 'water', 'water', 'grass', 'water', 'water',\n",
       "       'bug', 'water', 'water', 'water', 'water', 'water', 'grass',\n",
       "       'water', 'water', 'water', 'electric', 'normal', 'water', 'rock',\n",
       "       'rock', 'grass', 'water', 'water', 'water', 'water', 'water',\n",
       "       'normal', 'electric', 'electric', 'water', 'water', 'water',\n",
       "       'water', 'normal', 'water', 'water', 'water', 'bug', 'grass',\n",
       "       'water', 'water', 'water', 'grass', 'water', 'normal', 'water',\n",
       "       'water', 'water', 'electric', 'water', 'grass', 'water', 'water',\n",
       "       'rock', 'water', 'water', 'water', 'grass', 'water', 'water',\n",
       "       'water', 'normal', 'grass', 'electric', 'grass', 'normal',\n",
       "       'normal', 'normal', 'water', 'water', 'normal', 'water', 'water',\n",
       "       'normal', 'water', 'rock', 'grass', 'normal', 'water', 'normal',\n",
       "       'grass', 'normal', 'water', 'ground', 'water', 'grass', 'rock',\n",
       "       'normal', 'water', 'water', 'grass', 'bug', 'normal', 'normal',\n",
       "       'ground', 'water', 'electric', 'grass', 'normal', 'grass', 'grass',\n",
       "       'water', 'normal', 'rock', 'water', 'water', 'water', 'electric',\n",
       "       'grass', 'water', 'normal', 'water', 'grass', 'ground', 'water',\n",
       "       'water', 'grass', 'ground', 'grass', 'normal', 'water', 'grass',\n",
       "       'electric', 'grass', 'rock', 'rock', 'water', 'electric', 'rock',\n",
       "       'water', 'normal', 'normal', 'water', 'rock', 'water', 'water',\n",
       "       'rock', 'rock', 'normal', 'water', 'electric', 'water', 'water',\n",
       "       'grass', 'water', 'water', 'water', 'grass', 'grass', 'water',\n",
       "       'electric', 'water', 'rock', 'electric', 'water', 'grass', 'water',\n",
       "       'electric', 'grass', 'rock', 'rock', 'electric', 'water', 'water',\n",
       "       'water', 'water', 'electric', 'water', 'water', 'grass', 'water',\n",
       "       'water', 'rock', 'grass', 'grass', 'water', 'normal', 'water',\n",
       "       'ground', 'water', 'water', 'normal', 'rock', 'water', 'water',\n",
       "       'water', 'rock', 'water', 'normal', 'water', 'grass', 'normal',\n",
       "       'water', 'normal', 'water', 'water', 'grass', 'grass', 'grass',\n",
       "       'water', 'water', 'grass', 'rock', 'electric', 'grass', 'water',\n",
       "       'water', 'grass', 'electric', 'rock', 'water', 'grass', 'water',\n",
       "       'grass', 'water', 'electric', 'grass', 'grass', 'water', 'grass',\n",
       "       'water', 'normal', 'water', 'water', 'water', 'water', 'water',\n",
       "       'water', 'water', 'water', 'grass', 'electric', 'water', 'rock',\n",
       "       'grass', 'rock', 'grass', 'psychic', 'electric', 'water', 'water',\n",
       "       'water', 'electric', 'grass', 'rock', 'bug', 'rock', 'rock',\n",
       "       'electric', 'water', 'normal', 'ground', 'normal', 'water',\n",
       "       'water', 'water', 'water', 'water', 'grass', 'water', 'electric',\n",
       "       'water', 'normal', 'grass', 'rock', 'rock', 'normal', 'water',\n",
       "       'water', 'water', 'water', 'electric', 'rock', 'water', 'water',\n",
       "       'rock', 'electric', 'electric', 'water', 'grass', 'water', 'rock',\n",
       "       'grass', 'grass', 'water', 'bug', 'water', 'grass', 'water',\n",
       "       'water', 'water', 'water', 'rock', 'water', 'water', 'electric',\n",
       "       'water', 'water', 'water', 'ground', 'grass', 'water', 'water',\n",
       "       'water', 'water', 'water', 'water', 'water', 'electric', 'normal',\n",
       "       'water', 'water', 'water', 'water', 'normal', 'rock', 'electric',\n",
       "       'water', 'normal', 'electric', 'water', 'electric', 'water',\n",
       "       'normal', 'water', 'water', 'ground', 'grass', 'water', 'water',\n",
       "       'water', 'ground', 'rock', 'normal', 'water', 'grass', 'grass',\n",
       "       'normal', 'normal', 'water', 'normal', 'water', 'rock', 'water',\n",
       "       'water', 'grass', 'grass', 'electric', 'electric', 'water',\n",
       "       'water', 'water', 'electric', 'water', 'electric', 'grass',\n",
       "       'water', 'ground', 'water', 'grass', 'electric', 'water', 'water',\n",
       "       'grass', 'water', 'water', 'electric', 'water', 'water', 'water',\n",
       "       'rock', 'water', 'bug', 'water', 'bug', 'water', 'water', 'normal',\n",
       "       'water', 'water', 'grass', 'grass', 'water', 'rock', 'electric',\n",
       "       'water', 'water', 'bug', 'water', 'electric', 'normal', 'water',\n",
       "       'normal', 'grass', 'water', 'rock', 'grass', 'rock', 'water',\n",
       "       'water', 'water', 'grass', 'water', 'normal', 'normal', 'water',\n",
       "       'psychic', 'electric', 'normal', 'water', 'rock', 'rock'],\n",
       "      dtype=object)"
      ]
     },
     "execution_count": 226,
     "metadata": {},
     "output_type": "execute_result"
    }
   ],
   "source": [
    "predictions = dt.predict(pokemon_train[features])\n",
    "predictions"
   ]
  },
  {
   "cell_type": "code",
   "execution_count": 227,
   "metadata": {},
   "outputs": [
    {
     "data": {
      "text/plain": [
       "array(['grass', 'normal', 'electric', 'grass', 'water', 'grass', 'water',\n",
       "       'bug', 'grass', 'water', 'water', 'normal', 'rock', 'water',\n",
       "       'rock', 'rock', 'normal', 'water', 'grass', 'water', 'normal',\n",
       "       'electric', 'grass', 'grass', 'water', 'water', 'psychic', 'water',\n",
       "       'water', 'water', 'water', 'normal', 'water', 'water', 'rock',\n",
       "       'water', 'electric', 'electric', 'water', 'rock', 'water', 'rock',\n",
       "       'water', 'water', 'psychic', 'water', 'normal', 'normal', 'water',\n",
       "       'grass', 'grass', 'water', 'rock', 'water', 'rock', 'grass',\n",
       "       'water', 'water', 'water', 'normal', 'rock', 'grass', 'normal',\n",
       "       'water', 'water', 'rock', 'water', 'water', 'grass', 'water',\n",
       "       'water', 'electric', 'water', 'water', 'water', 'electric', 'bug',\n",
       "       'electric', 'grass', 'rock', 'water', 'water', 'water', 'water',\n",
       "       'water', 'water', 'water', 'water', 'water', 'rock', 'grass',\n",
       "       'water', 'grass', 'rock', 'electric', 'water', 'water', 'rock',\n",
       "       'water', 'grass', 'electric', 'water', 'water', 'normal', 'normal',\n",
       "       'water', 'water', 'normal', 'grass', 'normal', 'grass', 'water',\n",
       "       'water', 'normal', 'electric', 'water', 'water', 'water', 'water',\n",
       "       'grass', 'water', 'water', 'water', 'electric', 'water',\n",
       "       'electric', 'ground', 'water', 'electric', 'grass', 'water',\n",
       "       'water', 'water', 'electric', 'rock', 'water', 'water', 'grass',\n",
       "       'normal', 'normal', 'water', 'normal', 'grass', 'grass', 'water',\n",
       "       'water', 'water', 'water', 'water', 'ground', 'bug', 'electric',\n",
       "       'psychic', 'grass', 'water', 'electric', 'electric', 'normal',\n",
       "       'water', 'water', 'ground', 'electric', 'water', 'electric',\n",
       "       'water', 'water', 'water', 'normal', 'water', 'water', 'grass',\n",
       "       'water', 'normal', 'water', 'water', 'water', 'grass', 'water',\n",
       "       'electric', 'psychic', 'water', 'water', 'water', 'water', 'water',\n",
       "       'water', 'electric', 'electric', 'water', 'grass', 'water',\n",
       "       'water', 'water', 'water', 'grass', 'normal', 'water', 'grass',\n",
       "       'water', 'water', 'grass', 'rock', 'bug', 'grass', 'water',\n",
       "       'grass', 'water', 'grass', 'grass', 'water', 'grass', 'water',\n",
       "       'water', 'rock', 'normal', 'grass', 'water', 'grass', 'ground',\n",
       "       'bug', 'water', 'rock', 'water', 'water', 'water', 'water',\n",
       "       'normal', 'water', 'grass', 'water', 'ground', 'water', 'water',\n",
       "       'normal', 'normal', 'water', 'grass', 'ground', 'water', 'water',\n",
       "       'normal'], dtype=object)"
      ]
     },
     "execution_count": 227,
     "metadata": {},
     "output_type": "execute_result"
    }
   ],
   "source": [
    "predictions = dt.predict(pokemon_test[features])\n",
    "predictions"
   ]
  },
  {
   "cell_type": "code",
   "execution_count": 228,
   "metadata": {},
   "outputs": [
    {
     "name": "stdout",
     "output_type": "stream",
     "text": [
      "Accuracy on training set 0.2\n",
      "Accuracy on test set 0.16182572614107885\n"
     ]
    }
   ],
   "source": [
    "predictionsOnTrainset = dt.predict(pokemon_train[features])\n",
    "predictionsOnTestset = dt.predict(pokemon_test[features])\n",
    "\n",
    "accuracyTrain = calculate_accuracy(predictionsOnTrainset, pokemon_train.type1)\n",
    "accuracyTest = calculate_accuracy(predictionsOnTestset, pokemon_test.type1)\n",
    "\n",
    "print(\"Accuracy on training set \" + str(accuracyTrain))\n",
    "print(\"Accuracy on test set \" + str(accuracyTest))"
   ]
  },
  {
   "cell_type": "code",
   "execution_count": 229,
   "metadata": {},
   "outputs": [
    {
     "data": {
      "image/svg+xml": "<?xml version=\"1.0\" encoding=\"UTF-8\" standalone=\"no\"?>\n<!DOCTYPE svg PUBLIC \"-//W3C//DTD SVG 1.1//EN\"\n \"http://www.w3.org/Graphics/SVG/1.1/DTD/svg11.dtd\">\n<!-- Generated by graphviz version 7.1.0 (20230121.1956)\n -->\n<!-- Title: Tree Pages: 1 -->\n<svg width=\"2442pt\" height=\"493pt\"\n viewBox=\"0.00 0.00 2442.00 493.00\" xmlns=\"http://www.w3.org/2000/svg\" xmlns:xlink=\"http://www.w3.org/1999/xlink\">\n<g id=\"graph0\" class=\"graph\" transform=\"scale(1 1) rotate(0) translate(4 489)\">\n<title>Tree</title>\n<polygon fill=\"white\" stroke=\"none\" points=\"-4,4 -4,-489 2438,-489 2438,4 -4,4\"/>\n<!-- 0 -->\n<g id=\"node1\" class=\"node\">\n<title>0</title>\n<path fill=\"#ffffff\" stroke=\"black\" d=\"M1356.5,-485C1356.5,-485 1039.5,-485 1039.5,-485 1033.5,-485 1027.5,-479 1027.5,-473 1027.5,-473 1027.5,-399 1027.5,-399 1027.5,-393 1033.5,-387 1039.5,-387 1039.5,-387 1356.5,-387 1356.5,-387 1362.5,-387 1368.5,-393 1368.5,-399 1368.5,-399 1368.5,-473 1368.5,-473 1368.5,-479 1362.5,-485 1356.5,-485\"/>\n<text text-anchor=\"start\" x=\"1155.5\" y=\"-469.8\" font-family=\"Helvetica,sans-Serif\" font-size=\"14.00\">speed ≤ 42.5</text>\n<text text-anchor=\"start\" x=\"1160.5\" y=\"-454.8\" font-family=\"Helvetica,sans-Serif\" font-size=\"14.00\">gini = 0.921</text>\n<text text-anchor=\"start\" x=\"1150.5\" y=\"-439.8\" font-family=\"Helvetica,sans-Serif\" font-size=\"14.00\">samples = 560</text>\n<text text-anchor=\"start\" x=\"1035.5\" y=\"-424.8\" font-family=\"Helvetica,sans-Serif\" font-size=\"14.00\">value = [51, 20, 17, 29, 13, 22, 38, 3, 15, 59, 24, 15</text>\n<text text-anchor=\"start\" x=\"1127.5\" y=\"-409.8\" font-family=\"Helvetica,sans-Serif\" font-size=\"14.00\">74, 23, 34, 34, 14, 75]</text>\n<text text-anchor=\"start\" x=\"1156.5\" y=\"-394.8\" font-family=\"Helvetica,sans-Serif\" font-size=\"14.00\">class = water</text>\n</g>\n<!-- 1 -->\n<g id=\"node2\" class=\"node\">\n<title>1</title>\n<path fill=\"#fbfdff\" stroke=\"black\" d=\"M1035.5,-351C1035.5,-351 752.5,-351 752.5,-351 746.5,-351 740.5,-345 740.5,-339 740.5,-339 740.5,-265 740.5,-265 740.5,-259 746.5,-253 752.5,-253 752.5,-253 1035.5,-253 1035.5,-253 1041.5,-253 1047.5,-259 1047.5,-265 1047.5,-265 1047.5,-339 1047.5,-339 1047.5,-345 1041.5,-351 1035.5,-351\"/>\n<text text-anchor=\"start\" x=\"864\" y=\"-335.8\" font-family=\"Helvetica,sans-Serif\" font-size=\"14.00\">hp ≤ 77.5</text>\n<text text-anchor=\"start\" x=\"856.5\" y=\"-320.8\" font-family=\"Helvetica,sans-Serif\" font-size=\"14.00\">gini = 0.906</text>\n<text text-anchor=\"start\" x=\"846.5\" y=\"-305.8\" font-family=\"Helvetica,sans-Serif\" font-size=\"14.00\">samples = 130</text>\n<text text-anchor=\"start\" x=\"748.5\" y=\"-290.8\" font-family=\"Helvetica,sans-Serif\" font-size=\"14.00\">value = [20, 2, 1, 1, 7, 5, 4, 0, 5, 22, 9, 2, 10, 4</text>\n<text text-anchor=\"start\" x=\"856\" y=\"-275.8\" font-family=\"Helvetica,sans-Serif\" font-size=\"14.00\">11, 9, 6, 12]</text>\n<text text-anchor=\"start\" x=\"851.5\" y=\"-260.8\" font-family=\"Helvetica,sans-Serif\" font-size=\"14.00\">class = grass</text>\n</g>\n<!-- 0&#45;&gt;1 -->\n<g id=\"edge1\" class=\"edge\">\n<title>0&#45;&gt;1</title>\n<path fill=\"none\" stroke=\"black\" d=\"M1086.53,-386.6C1063.5,-376.6 1039.13,-366.02 1015.76,-355.87\"/>\n<polygon fill=\"black\" stroke=\"black\" points=\"1017.41,-352.77 1006.85,-352 1014.63,-359.19 1017.41,-352.77\"/>\n<text text-anchor=\"middle\" x=\"1014.63\" y=\"-370.95\" font-family=\"Helvetica,sans-Serif\" font-size=\"14.00\">True</text>\n</g>\n<!-- 8 -->\n<g id=\"node9\" class=\"node\">\n<title>8</title>\n<path fill=\"#fffeff\" stroke=\"black\" d=\"M1663.5,-351C1663.5,-351 1354.5,-351 1354.5,-351 1348.5,-351 1342.5,-345 1342.5,-339 1342.5,-339 1342.5,-265 1342.5,-265 1342.5,-259 1348.5,-253 1354.5,-253 1354.5,-253 1663.5,-253 1663.5,-253 1669.5,-253 1675.5,-259 1675.5,-265 1675.5,-265 1675.5,-339 1675.5,-339 1675.5,-345 1669.5,-351 1663.5,-351\"/>\n<text text-anchor=\"start\" x=\"1466.5\" y=\"-335.8\" font-family=\"Helvetica,sans-Serif\" font-size=\"14.00\">speed ≤ 94.0</text>\n<text text-anchor=\"start\" x=\"1471.5\" y=\"-320.8\" font-family=\"Helvetica,sans-Serif\" font-size=\"14.00\">gini = 0.917</text>\n<text text-anchor=\"start\" x=\"1461.5\" y=\"-305.8\" font-family=\"Helvetica,sans-Serif\" font-size=\"14.00\">samples = 430</text>\n<text text-anchor=\"start\" x=\"1350.5\" y=\"-290.8\" font-family=\"Helvetica,sans-Serif\" font-size=\"14.00\">value = [31, 18, 16, 28, 6, 17, 34, 3, 10, 37, 15, 13</text>\n<text text-anchor=\"start\" x=\"1442.5\" y=\"-275.8\" font-family=\"Helvetica,sans-Serif\" font-size=\"14.00\">64, 19, 23, 25, 8, 63]</text>\n<text text-anchor=\"start\" x=\"1463\" y=\"-260.8\" font-family=\"Helvetica,sans-Serif\" font-size=\"14.00\">class = normal</text>\n</g>\n<!-- 0&#45;&gt;8 -->\n<g id=\"edge8\" class=\"edge\">\n<title>0&#45;&gt;8</title>\n<path fill=\"none\" stroke=\"black\" d=\"M1312.04,-386.6C1335.6,-376.6 1360.52,-366.02 1384.43,-355.87\"/>\n<polygon fill=\"black\" stroke=\"black\" points=\"1385.74,-359.12 1393.58,-351.99 1383.01,-352.67 1385.74,-359.12\"/>\n<text text-anchor=\"middle\" x=\"1385.61\" y=\"-370.88\" font-family=\"Helvetica,sans-Serif\" font-size=\"14.00\">False</text>\n</g>\n<!-- 2 -->\n<g id=\"node3\" class=\"node\">\n<title>2</title>\n<path fill=\"#ffffff\" stroke=\"black\" d=\"M587.5,-217C587.5,-217 312.5,-217 312.5,-217 306.5,-217 300.5,-211 300.5,-205 300.5,-205 300.5,-131 300.5,-131 300.5,-125 306.5,-119 312.5,-119 312.5,-119 587.5,-119 587.5,-119 593.5,-119 599.5,-125 599.5,-131 599.5,-131 599.5,-205 599.5,-205 599.5,-211 593.5,-217 587.5,-217\"/>\n<text text-anchor=\"start\" x=\"409.5\" y=\"-201.8\" font-family=\"Helvetica,sans-Serif\" font-size=\"14.00\">attack ≤ 29.5</text>\n<text text-anchor=\"start\" x=\"412.5\" y=\"-186.8\" font-family=\"Helvetica,sans-Serif\" font-size=\"14.00\">gini = 0.897</text>\n<text text-anchor=\"start\" x=\"402.5\" y=\"-171.8\" font-family=\"Helvetica,sans-Serif\" font-size=\"14.00\">samples = 109</text>\n<text text-anchor=\"start\" x=\"308.5\" y=\"-156.8\" font-family=\"Helvetica,sans-Serif\" font-size=\"14.00\">value = [20, 2, 1, 1, 6, 4, 4, 0, 5, 20, 3, 1, 7, 4</text>\n<text text-anchor=\"start\" x=\"420\" y=\"-141.8\" font-family=\"Helvetica,sans-Serif\" font-size=\"14.00\">7, 9, 6, 9]</text>\n<text text-anchor=\"start\" x=\"413.5\" y=\"-126.8\" font-family=\"Helvetica,sans-Serif\" font-size=\"14.00\">class = bug</text>\n</g>\n<!-- 1&#45;&gt;2 -->\n<g id=\"edge2\" class=\"edge\">\n<title>1&#45;&gt;2</title>\n<path fill=\"none\" stroke=\"black\" d=\"M740.27,-255.3C698.43,-242.86 653.01,-229.36 610.8,-216.81\"/>\n<polygon fill=\"black\" stroke=\"black\" points=\"611.89,-213.48 601.3,-213.98 609.89,-220.19 611.89,-213.48\"/>\n</g>\n<!-- 5 -->\n<g id=\"node6\" class=\"node\">\n<title>5</title>\n<path fill=\"#e8edfc\" stroke=\"black\" d=\"M1023,-217C1023,-217 765,-217 765,-217 759,-217 753,-211 753,-205 753,-205 753,-131 753,-131 753,-125 759,-119 765,-119 765,-119 1023,-119 1023,-119 1029,-119 1035,-125 1035,-131 1035,-131 1035,-205 1035,-205 1035,-211 1029,-217 1023,-217\"/>\n<text text-anchor=\"start\" x=\"853.5\" y=\"-201.8\" font-family=\"Helvetica,sans-Serif\" font-size=\"14.00\">attack ≤ 57.5</text>\n<text text-anchor=\"start\" x=\"856.5\" y=\"-186.8\" font-family=\"Helvetica,sans-Serif\" font-size=\"14.00\">gini = 0.825</text>\n<text text-anchor=\"start\" x=\"850.5\" y=\"-171.8\" font-family=\"Helvetica,sans-Serif\" font-size=\"14.00\">samples = 21</text>\n<text text-anchor=\"start\" x=\"761\" y=\"-156.8\" font-family=\"Helvetica,sans-Serif\" font-size=\"14.00\">value = [0, 0, 0, 0, 1, 1, 0, 0, 0, 2, 6, 1, 3, 0</text>\n<text text-anchor=\"start\" x=\"864\" y=\"-141.8\" font-family=\"Helvetica,sans-Serif\" font-size=\"14.00\">4, 0, 0, 3]</text>\n<text text-anchor=\"start\" x=\"847\" y=\"-126.8\" font-family=\"Helvetica,sans-Serif\" font-size=\"14.00\">class = ground</text>\n</g>\n<!-- 1&#45;&gt;5 -->\n<g id=\"edge5\" class=\"edge\">\n<title>1&#45;&gt;5</title>\n<path fill=\"none\" stroke=\"black\" d=\"M894,-252.6C894,-244.89 894,-236.83 894,-228.89\"/>\n<polygon fill=\"black\" stroke=\"black\" points=\"897.5,-228.91 894,-218.91 890.5,-228.91 897.5,-228.91\"/>\n</g>\n<!-- 3 -->\n<g id=\"node4\" class=\"node\">\n<title>3</title>\n<path fill=\"#ffffff\" stroke=\"black\" d=\"M270,-83C270,-83 12,-83 12,-83 6,-83 0,-77 0,-71 0,-71 0,-12 0,-12 0,-6 6,0 12,0 12,0 270,0 270,0 276,0 282,-6 282,-12 282,-12 282,-71 282,-71 282,-77 276,-83 270,-83\"/>\n<text text-anchor=\"start\" x=\"107.5\" y=\"-67.8\" font-family=\"Helvetica,sans-Serif\" font-size=\"14.00\">gini = 0.76</text>\n<text text-anchor=\"start\" x=\"97.5\" y=\"-52.8\" font-family=\"Helvetica,sans-Serif\" font-size=\"14.00\">samples = 10</text>\n<text text-anchor=\"start\" x=\"8\" y=\"-37.8\" font-family=\"Helvetica,sans-Serif\" font-size=\"14.00\">value = [3, 0, 0, 0, 2, 0, 0, 0, 0, 0, 0, 0, 1, 0</text>\n<text text-anchor=\"start\" x=\"111\" y=\"-22.8\" font-family=\"Helvetica,sans-Serif\" font-size=\"14.00\">3, 0, 1, 0]</text>\n<text text-anchor=\"start\" x=\"104.5\" y=\"-7.8\" font-family=\"Helvetica,sans-Serif\" font-size=\"14.00\">class = bug</text>\n</g>\n<!-- 2&#45;&gt;3 -->\n<g id=\"edge3\" class=\"edge\">\n<title>2&#45;&gt;3</title>\n<path fill=\"none\" stroke=\"black\" d=\"M329.65,-118.51C304.44,-108.35 277.96,-97.68 253.07,-87.65\"/>\n<polygon fill=\"black\" stroke=\"black\" points=\"254.49,-84.45 243.91,-83.96 251.88,-90.95 254.49,-84.45\"/>\n</g>\n<!-- 4 -->\n<g id=\"node5\" class=\"node\">\n<title>4</title>\n<path fill=\"#f8fbfe\" stroke=\"black\" d=\"M587.5,-83C587.5,-83 312.5,-83 312.5,-83 306.5,-83 300.5,-77 300.5,-71 300.5,-71 300.5,-12 300.5,-12 300.5,-6 306.5,0 312.5,0 312.5,0 587.5,0 587.5,0 593.5,0 599.5,-6 599.5,-12 599.5,-12 599.5,-71 599.5,-71 599.5,-77 593.5,-83 587.5,-83\"/>\n<text text-anchor=\"start\" x=\"412.5\" y=\"-67.8\" font-family=\"Helvetica,sans-Serif\" font-size=\"14.00\">gini = 0.895</text>\n<text text-anchor=\"start\" x=\"406.5\" y=\"-52.8\" font-family=\"Helvetica,sans-Serif\" font-size=\"14.00\">samples = 99</text>\n<text text-anchor=\"start\" x=\"308.5\" y=\"-37.8\" font-family=\"Helvetica,sans-Serif\" font-size=\"14.00\">value = [17, 2, 1, 1, 4, 4, 4, 0, 5, 20, 3, 1, 6, 4</text>\n<text text-anchor=\"start\" x=\"420\" y=\"-22.8\" font-family=\"Helvetica,sans-Serif\" font-size=\"14.00\">4, 9, 5, 9]</text>\n<text text-anchor=\"start\" x=\"407.5\" y=\"-7.8\" font-family=\"Helvetica,sans-Serif\" font-size=\"14.00\">class = grass</text>\n</g>\n<!-- 2&#45;&gt;4 -->\n<g id=\"edge4\" class=\"edge\">\n<title>2&#45;&gt;4</title>\n<path fill=\"none\" stroke=\"black\" d=\"M450,-118.51C450,-110.71 450,-102.61 450,-94.73\"/>\n<polygon fill=\"black\" stroke=\"black\" points=\"453.5,-94.91 450,-84.91 446.5,-94.91 453.5,-94.91\"/>\n</g>\n<!-- 6 -->\n<g id=\"node7\" class=\"node\">\n<title>6</title>\n<path fill=\"#ee7be4\" stroke=\"black\" d=\"M888,-83C888,-83 630,-83 630,-83 624,-83 618,-77 618,-71 618,-71 618,-12 618,-12 618,-6 624,0 630,0 630,0 888,0 888,0 894,0 900,-6 900,-12 900,-12 900,-71 900,-71 900,-77 894,-83 888,-83\"/>\n<text text-anchor=\"start\" x=\"721.5\" y=\"-67.8\" font-family=\"Helvetica,sans-Serif\" font-size=\"14.00\">gini = 0.375</text>\n<text text-anchor=\"start\" x=\"719.5\" y=\"-52.8\" font-family=\"Helvetica,sans-Serif\" font-size=\"14.00\">samples = 4</text>\n<text text-anchor=\"start\" x=\"626\" y=\"-37.8\" font-family=\"Helvetica,sans-Serif\" font-size=\"14.00\">value = [0, 0, 0, 0, 0, 0, 0, 0, 0, 0, 0, 0, 1, 0</text>\n<text text-anchor=\"start\" x=\"729\" y=\"-22.8\" font-family=\"Helvetica,sans-Serif\" font-size=\"14.00\">3, 0, 0, 0]</text>\n<text text-anchor=\"start\" x=\"710.5\" y=\"-7.8\" font-family=\"Helvetica,sans-Serif\" font-size=\"14.00\">class = psychic</text>\n</g>\n<!-- 5&#45;&gt;6 -->\n<g id=\"edge6\" class=\"edge\">\n<title>5&#45;&gt;6</title>\n<path fill=\"none\" stroke=\"black\" d=\"M841.42,-118.51C831.68,-109.53 821.51,-100.15 811.77,-91.17\"/>\n<polygon fill=\"black\" stroke=\"black\" points=\"814.18,-88.63 804.46,-84.42 809.44,-93.78 814.18,-88.63\"/>\n</g>\n<!-- 7 -->\n<g id=\"node8\" class=\"node\">\n<title>7</title>\n<path fill=\"#d5def9\" stroke=\"black\" d=\"M1188,-83C1188,-83 930,-83 930,-83 924,-83 918,-77 918,-71 918,-71 918,-12 918,-12 918,-6 924,0 930,0 930,0 1188,0 1188,0 1194,0 1200,-6 1200,-12 1200,-12 1200,-71 1200,-71 1200,-77 1194,-83 1188,-83\"/>\n<text text-anchor=\"start\" x=\"1021.5\" y=\"-67.8\" font-family=\"Helvetica,sans-Serif\" font-size=\"14.00\">gini = 0.803</text>\n<text text-anchor=\"start\" x=\"1015.5\" y=\"-52.8\" font-family=\"Helvetica,sans-Serif\" font-size=\"14.00\">samples = 17</text>\n<text text-anchor=\"start\" x=\"926\" y=\"-37.8\" font-family=\"Helvetica,sans-Serif\" font-size=\"14.00\">value = [0, 0, 0, 0, 1, 1, 0, 0, 0, 2, 6, 1, 2, 0</text>\n<text text-anchor=\"start\" x=\"1029\" y=\"-22.8\" font-family=\"Helvetica,sans-Serif\" font-size=\"14.00\">1, 0, 0, 3]</text>\n<text text-anchor=\"start\" x=\"1012\" y=\"-7.8\" font-family=\"Helvetica,sans-Serif\" font-size=\"14.00\">class = ground</text>\n</g>\n<!-- 5&#45;&gt;7 -->\n<g id=\"edge7\" class=\"edge\">\n<title>5&#45;&gt;7</title>\n<path fill=\"none\" stroke=\"black\" d=\"M958.27,-118.51C970.64,-109.17 983.6,-99.39 995.94,-90.08\"/>\n<polygon fill=\"black\" stroke=\"black\" points=\"997.72,-93.13 1003.59,-84.31 993.5,-87.54 997.72,-93.13\"/>\n</g>\n<!-- 9 -->\n<g id=\"node10\" class=\"node\">\n<title>9</title>\n<path fill=\"#fffefe\" stroke=\"black\" d=\"M1659.5,-217C1659.5,-217 1358.5,-217 1358.5,-217 1352.5,-217 1346.5,-211 1346.5,-205 1346.5,-205 1346.5,-131 1346.5,-131 1346.5,-125 1352.5,-119 1358.5,-119 1358.5,-119 1659.5,-119 1659.5,-119 1665.5,-119 1671.5,-125 1671.5,-131 1671.5,-131 1671.5,-205 1671.5,-205 1671.5,-211 1665.5,-217 1659.5,-217\"/>\n<text text-anchor=\"start\" x=\"1464.5\" y=\"-201.8\" font-family=\"Helvetica,sans-Serif\" font-size=\"14.00\">attack ≤ 111.0</text>\n<text text-anchor=\"start\" x=\"1471.5\" y=\"-186.8\" font-family=\"Helvetica,sans-Serif\" font-size=\"14.00\">gini = 0.911</text>\n<text text-anchor=\"start\" x=\"1461.5\" y=\"-171.8\" font-family=\"Helvetica,sans-Serif\" font-size=\"14.00\">samples = 321</text>\n<text text-anchor=\"start\" x=\"1354.5\" y=\"-156.8\" font-family=\"Helvetica,sans-Serif\" font-size=\"14.00\">value = [22, 10, 12, 11, 4, 13, 28, 1, 7, 31, 14, 10</text>\n<text text-anchor=\"start\" x=\"1442.5\" y=\"-141.8\" font-family=\"Helvetica,sans-Serif\" font-size=\"14.00\">50, 17, 13, 22, 5, 51]</text>\n<text text-anchor=\"start\" x=\"1467.5\" y=\"-126.8\" font-family=\"Helvetica,sans-Serif\" font-size=\"14.00\">class = water</text>\n</g>\n<!-- 8&#45;&gt;9 -->\n<g id=\"edge9\" class=\"edge\">\n<title>8&#45;&gt;9</title>\n<path fill=\"none\" stroke=\"black\" d=\"M1509,-252.6C1509,-244.89 1509,-236.83 1509,-228.89\"/>\n<polygon fill=\"black\" stroke=\"black\" points=\"1512.5,-228.91 1509,-218.91 1505.5,-228.91 1512.5,-228.91\"/>\n</g>\n<!-- 12 -->\n<g id=\"node13\" class=\"node\">\n<title>12</title>\n<path fill=\"#fcfef9\" stroke=\"black\" d=\"M2118.5,-217C2118.5,-217 1843.5,-217 1843.5,-217 1837.5,-217 1831.5,-211 1831.5,-205 1831.5,-205 1831.5,-131 1831.5,-131 1831.5,-125 1837.5,-119 1843.5,-119 1843.5,-119 2118.5,-119 2118.5,-119 2124.5,-119 2130.5,-125 2130.5,-131 2130.5,-131 2130.5,-205 2130.5,-205 2130.5,-211 2124.5,-217 2118.5,-217\"/>\n<text text-anchor=\"start\" x=\"1951\" y=\"-201.8\" font-family=\"Helvetica,sans-Serif\" font-size=\"14.00\">hp ≤ 70.5</text>\n<text text-anchor=\"start\" x=\"1943.5\" y=\"-186.8\" font-family=\"Helvetica,sans-Serif\" font-size=\"14.00\">gini = 0.914</text>\n<text text-anchor=\"start\" x=\"1933.5\" y=\"-171.8\" font-family=\"Helvetica,sans-Serif\" font-size=\"14.00\">samples = 109</text>\n<text text-anchor=\"start\" x=\"1839.5\" y=\"-156.8\" font-family=\"Helvetica,sans-Serif\" font-size=\"14.00\">value = [9, 8, 4, 17, 2, 4, 6, 2, 3, 6, 1, 3, 14, 2</text>\n<text text-anchor=\"start\" x=\"1943\" y=\"-141.8\" font-family=\"Helvetica,sans-Serif\" font-size=\"14.00\">10, 3, 3, 12]</text>\n<text text-anchor=\"start\" x=\"1933.5\" y=\"-126.8\" font-family=\"Helvetica,sans-Serif\" font-size=\"14.00\">class = electric</text>\n</g>\n<!-- 8&#45;&gt;12 -->\n<g id=\"edge12\" class=\"edge\">\n<title>8&#45;&gt;12</title>\n<path fill=\"none\" stroke=\"black\" d=\"M1675.74,-254.37C1722.75,-241.22 1773.79,-226.95 1820.43,-213.91\"/>\n<polygon fill=\"black\" stroke=\"black\" points=\"1821.1,-217.35 1829.79,-211.29 1819.21,-210.61 1821.1,-217.35\"/>\n</g>\n<!-- 10 -->\n<g id=\"node11\" class=\"node\">\n<title>10</title>\n<path fill=\"#fffdfd\" stroke=\"black\" d=\"M1505.5,-83C1505.5,-83 1230.5,-83 1230.5,-83 1224.5,-83 1218.5,-77 1218.5,-71 1218.5,-71 1218.5,-12 1218.5,-12 1218.5,-6 1224.5,0 1230.5,0 1230.5,0 1505.5,0 1505.5,0 1511.5,0 1517.5,-6 1517.5,-12 1517.5,-12 1517.5,-71 1517.5,-71 1517.5,-77 1511.5,-83 1505.5,-83\"/>\n<text text-anchor=\"start\" x=\"1330.5\" y=\"-67.8\" font-family=\"Helvetica,sans-Serif\" font-size=\"14.00\">gini = 0.902</text>\n<text text-anchor=\"start\" x=\"1320.5\" y=\"-52.8\" font-family=\"Helvetica,sans-Serif\" font-size=\"14.00\">samples = 273</text>\n<text text-anchor=\"start\" x=\"1226.5\" y=\"-37.8\" font-family=\"Helvetica,sans-Serif\" font-size=\"14.00\">value = [19, 8, 8, 9, 4, 6, 26, 1, 6, 27, 8, 9, 46</text>\n<text text-anchor=\"start\" x=\"1313.5\" y=\"-22.8\" font-family=\"Helvetica,sans-Serif\" font-size=\"14.00\">17, 13, 14, 4, 48]</text>\n<text text-anchor=\"start\" x=\"1326.5\" y=\"-7.8\" font-family=\"Helvetica,sans-Serif\" font-size=\"14.00\">class = water</text>\n</g>\n<!-- 9&#45;&gt;10 -->\n<g id=\"edge10\" class=\"edge\">\n<title>9&#45;&gt;10</title>\n<path fill=\"none\" stroke=\"black\" d=\"M1454.08,-118.51C1443.81,-109.44 1433.08,-99.96 1422.81,-90.9\"/>\n<polygon fill=\"black\" stroke=\"black\" points=\"1425.27,-88.4 1415.45,-84.4 1420.63,-93.64 1425.27,-88.4\"/>\n</g>\n<!-- 11 -->\n<g id=\"node12\" class=\"node\">\n<title>11</title>\n<path fill=\"#fefafd\" stroke=\"black\" d=\"M1806,-83C1806,-83 1548,-83 1548,-83 1542,-83 1536,-77 1536,-71 1536,-71 1536,-12 1536,-12 1536,-6 1542,0 1548,0 1548,0 1806,0 1806,0 1812,0 1818,-6 1818,-12 1818,-12 1818,-71 1818,-71 1818,-77 1812,-83 1806,-83\"/>\n<text text-anchor=\"start\" x=\"1648\" y=\"-67.8\" font-family=\"Helvetica,sans-Serif\" font-size=\"14.00\">gini = 0.9</text>\n<text text-anchor=\"start\" x=\"1633.5\" y=\"-52.8\" font-family=\"Helvetica,sans-Serif\" font-size=\"14.00\">samples = 48</text>\n<text text-anchor=\"start\" x=\"1544\" y=\"-37.8\" font-family=\"Helvetica,sans-Serif\" font-size=\"14.00\">value = [3, 2, 4, 2, 0, 7, 2, 0, 1, 4, 6, 1, 4, 0</text>\n<text text-anchor=\"start\" x=\"1647\" y=\"-22.8\" font-family=\"Helvetica,sans-Serif\" font-size=\"14.00\">0, 8, 1, 3]</text>\n<text text-anchor=\"start\" x=\"1639\" y=\"-7.8\" font-family=\"Helvetica,sans-Serif\" font-size=\"14.00\">class = rock</text>\n</g>\n<!-- 9&#45;&gt;11 -->\n<g id=\"edge11\" class=\"edge\">\n<title>9&#45;&gt;11</title>\n<path fill=\"none\" stroke=\"black\" d=\"M1574.43,-118.51C1587.04,-109.17 1600.23,-99.39 1612.79,-90.08\"/>\n<polygon fill=\"black\" stroke=\"black\" points=\"1614.65,-93.07 1620.6,-84.3 1610.48,-87.44 1614.65,-93.07\"/>\n</g>\n<!-- 13 -->\n<g id=\"node14\" class=\"node\">\n<title>13</title>\n<path fill=\"#f3fce7\" stroke=\"black\" d=\"M2114,-83C2114,-83 1848,-83 1848,-83 1842,-83 1836,-77 1836,-71 1836,-71 1836,-12 1836,-12 1836,-6 1842,0 1848,0 1848,0 2114,0 2114,0 2120,0 2126,-6 2126,-12 2126,-12 2126,-71 2126,-71 2126,-77 2120,-83 2114,-83\"/>\n<text text-anchor=\"start\" x=\"1943.5\" y=\"-67.8\" font-family=\"Helvetica,sans-Serif\" font-size=\"14.00\">gini = 0.875</text>\n<text text-anchor=\"start\" x=\"1937.5\" y=\"-52.8\" font-family=\"Helvetica,sans-Serif\" font-size=\"14.00\">samples = 49</text>\n<text text-anchor=\"start\" x=\"1844\" y=\"-37.8\" font-family=\"Helvetica,sans-Serif\" font-size=\"14.00\">value = [7, 6, 0, 12, 1, 3, 1, 0, 3, 3, 0, 1, 2, 1</text>\n<text text-anchor=\"start\" x=\"1951\" y=\"-22.8\" font-family=\"Helvetica,sans-Serif\" font-size=\"14.00\">3, 1, 0, 5]</text>\n<text text-anchor=\"start\" x=\"1933.5\" y=\"-7.8\" font-family=\"Helvetica,sans-Serif\" font-size=\"14.00\">class = electric</text>\n</g>\n<!-- 12&#45;&gt;13 -->\n<g id=\"edge13\" class=\"edge\">\n<title>12&#45;&gt;13</title>\n<path fill=\"none\" stroke=\"black\" d=\"M1981,-118.51C1981,-110.71 1981,-102.61 1981,-94.73\"/>\n<polygon fill=\"black\" stroke=\"black\" points=\"1984.5,-94.91 1981,-84.91 1977.5,-94.91 1984.5,-94.91\"/>\n</g>\n<!-- 14 -->\n<g id=\"node15\" class=\"node\">\n<title>14</title>\n<path fill=\"#f3ecfd\" stroke=\"black\" d=\"M2422,-83C2422,-83 2156,-83 2156,-83 2150,-83 2144,-77 2144,-71 2144,-71 2144,-12 2144,-12 2144,-6 2150,0 2156,0 2156,0 2422,0 2422,0 2428,0 2434,-6 2434,-12 2434,-12 2434,-71 2434,-71 2434,-77 2428,-83 2422,-83\"/>\n<text text-anchor=\"start\" x=\"2251.5\" y=\"-67.8\" font-family=\"Helvetica,sans-Serif\" font-size=\"14.00\">gini = 0.903</text>\n<text text-anchor=\"start\" x=\"2245.5\" y=\"-52.8\" font-family=\"Helvetica,sans-Serif\" font-size=\"14.00\">samples = 60</text>\n<text text-anchor=\"start\" x=\"2152\" y=\"-37.8\" font-family=\"Helvetica,sans-Serif\" font-size=\"14.00\">value = [2, 2, 4, 5, 1, 1, 5, 2, 0, 3, 1, 2, 12, 1</text>\n<text text-anchor=\"start\" x=\"2259\" y=\"-22.8\" font-family=\"Helvetica,sans-Serif\" font-size=\"14.00\">7, 2, 3, 7]</text>\n<text text-anchor=\"start\" x=\"2243\" y=\"-7.8\" font-family=\"Helvetica,sans-Serif\" font-size=\"14.00\">class = normal</text>\n</g>\n<!-- 12&#45;&gt;14 -->\n<g id=\"edge14\" class=\"edge\">\n<title>12&#45;&gt;14</title>\n<path fill=\"none\" stroke=\"black\" d=\"M2100.96,-118.51C2126.09,-108.35 2152.49,-97.68 2177.3,-87.65\"/>\n<polygon fill=\"black\" stroke=\"black\" points=\"2178.46,-90.96 2186.42,-83.97 2175.84,-84.47 2178.46,-90.96\"/>\n</g>\n</g>\n</svg>\n",
      "text/plain": [
       "<graphviz.sources.Source at 0x1d965176ec0>"
      ]
     },
     "execution_count": 229,
     "metadata": {},
     "output_type": "execute_result"
    }
   ],
   "source": [
    "plot_tree_classification(dt, features, np.sort(pokemon.type1.unique()))"
   ]
  }
 ],
 "metadata": {
  "kernelspec": {
   "display_name": "Python 3",
   "language": "python",
   "name": "python3"
  },
  "language_info": {
   "codemirror_mode": {
    "name": "ipython",
    "version": 3
   },
   "file_extension": ".py",
   "mimetype": "text/x-python",
   "name": "python",
   "nbconvert_exporter": "python",
   "pygments_lexer": "ipython3",
   "version": "3.10.10"
  },
  "orig_nbformat": 4
 },
 "nbformat": 4,
 "nbformat_minor": 2
}
