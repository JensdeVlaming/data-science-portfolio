{
 "cells": [
  {
   "cell_type": "markdown",
   "metadata": {},
   "source": [
    "## Portfolio assignment 17\n",
    "30 min: Train a decision tree to predict the body_mass_g of a penguin based on their characteristics.\n",
    "- Split the penguin dataset into a train (70%) and test (30%) set.\n",
    "- Use the train set to fit a DecisionTreeRegressor. You are free to to choose which columns you want to use as feature variables and you are also free to choose the max_depth of the tree. \n",
    "<b>Note</b>: Some machine learning algorithms can not handle missing values. You will either need to \n",
    " - replace missing values (with the mean or most popular value). For replacing missing values you can use .fillna(\\<value\\>) https://pandas.pydata.org/docs/reference/api/pandas.Series.fillna.html\n",
    " - remove rows with missing data.  You can remove rows with missing data with .dropna() https://pandas.pydata.org/pandas-docs/stable/reference/api/pandas.DataFrame.dropna.html\n",
    "- Use your decision tree model to make predictions for both the train and test set.\n",
    "- Calculate the RMSE for both the train set predictions and test set predictions.\n",
    "- Is the RMSE different? Did you expect this difference?\n",
    "- Use the plot_tree_regression function above to create a plot of the decision tree. Take a few minutes to analyse the decision tree. Do you understand the tree?"
   ]
  },
  {
   "cell_type": "code",
   "execution_count": 98,
   "metadata": {},
   "outputs": [],
   "source": [
    "import pandas as pd\n",
    "import seaborn as sns\n",
    "import numpy as np\n",
    "from sklearn.model_selection import train_test_split\n",
    "from sklearn.tree import DecisionTreeRegressor"
   ]
  },
  {
   "cell_type": "code",
   "execution_count": 99,
   "metadata": {},
   "outputs": [
    {
     "name": "stderr",
     "output_type": "stream",
     "text": [
      "C:\\Users\\Jens\\AppData\\Local\\Temp\\ipykernel_2972\\145872236.py:2: FutureWarning: Dropping of nuisance columns in DataFrame reductions (with 'numeric_only=None') is deprecated; in a future version this will raise TypeError.  Select only valid columns before calling the reduction.\n",
      "  penguins.fillna(penguins.mean(), inplace=True)\n"
     ]
    },
    {
     "data": {
      "text/html": [
       "<div>\n",
       "<style scoped>\n",
       "    .dataframe tbody tr th:only-of-type {\n",
       "        vertical-align: middle;\n",
       "    }\n",
       "\n",
       "    .dataframe tbody tr th {\n",
       "        vertical-align: top;\n",
       "    }\n",
       "\n",
       "    .dataframe thead th {\n",
       "        text-align: right;\n",
       "    }\n",
       "</style>\n",
       "<table border=\"1\" class=\"dataframe\">\n",
       "  <thead>\n",
       "    <tr style=\"text-align: right;\">\n",
       "      <th></th>\n",
       "      <th>species</th>\n",
       "      <th>island</th>\n",
       "      <th>bill_length_mm</th>\n",
       "      <th>bill_depth_mm</th>\n",
       "      <th>flipper_length_mm</th>\n",
       "      <th>body_mass_g</th>\n",
       "      <th>sex</th>\n",
       "    </tr>\n",
       "  </thead>\n",
       "  <tbody>\n",
       "    <tr>\n",
       "      <th>0</th>\n",
       "      <td>Adelie</td>\n",
       "      <td>Torgersen</td>\n",
       "      <td>39.1</td>\n",
       "      <td>18.7</td>\n",
       "      <td>181.0</td>\n",
       "      <td>3750.0</td>\n",
       "      <td>Male</td>\n",
       "    </tr>\n",
       "    <tr>\n",
       "      <th>1</th>\n",
       "      <td>Adelie</td>\n",
       "      <td>Torgersen</td>\n",
       "      <td>39.5</td>\n",
       "      <td>17.4</td>\n",
       "      <td>186.0</td>\n",
       "      <td>3800.0</td>\n",
       "      <td>Female</td>\n",
       "    </tr>\n",
       "    <tr>\n",
       "      <th>2</th>\n",
       "      <td>Adelie</td>\n",
       "      <td>Torgersen</td>\n",
       "      <td>40.3</td>\n",
       "      <td>18.0</td>\n",
       "      <td>195.0</td>\n",
       "      <td>3250.0</td>\n",
       "      <td>Female</td>\n",
       "    </tr>\n",
       "    <tr>\n",
       "      <th>4</th>\n",
       "      <td>Adelie</td>\n",
       "      <td>Torgersen</td>\n",
       "      <td>36.7</td>\n",
       "      <td>19.3</td>\n",
       "      <td>193.0</td>\n",
       "      <td>3450.0</td>\n",
       "      <td>Female</td>\n",
       "    </tr>\n",
       "    <tr>\n",
       "      <th>5</th>\n",
       "      <td>Adelie</td>\n",
       "      <td>Torgersen</td>\n",
       "      <td>39.3</td>\n",
       "      <td>20.6</td>\n",
       "      <td>190.0</td>\n",
       "      <td>3650.0</td>\n",
       "      <td>Male</td>\n",
       "    </tr>\n",
       "  </tbody>\n",
       "</table>\n",
       "</div>"
      ],
      "text/plain": [
       "  species     island  bill_length_mm  bill_depth_mm  flipper_length_mm  \\\n",
       "0  Adelie  Torgersen            39.1           18.7              181.0   \n",
       "1  Adelie  Torgersen            39.5           17.4              186.0   \n",
       "2  Adelie  Torgersen            40.3           18.0              195.0   \n",
       "4  Adelie  Torgersen            36.7           19.3              193.0   \n",
       "5  Adelie  Torgersen            39.3           20.6              190.0   \n",
       "\n",
       "   body_mass_g     sex  \n",
       "0       3750.0    Male  \n",
       "1       3800.0  Female  \n",
       "2       3250.0  Female  \n",
       "4       3450.0  Female  \n",
       "5       3650.0    Male  "
      ]
     },
     "execution_count": 99,
     "metadata": {},
     "output_type": "execute_result"
    }
   ],
   "source": [
    "penguins = sns.load_dataset(\"penguins\")\n",
    "penguins.fillna(penguins.mean(), inplace=True)\n",
    "penguins = penguins[penguins['sex'].notna()]\n",
    "\n",
    "penguins_train, penguins_test = train_test_split(penguins, test_size=0.3, random_state=42) #, stratify=penguins['body_mass_g']) \n",
    "\n",
    "penguins.head()"
   ]
  },
  {
   "cell_type": "code",
   "execution_count": 100,
   "metadata": {},
   "outputs": [
    {
     "data": {
      "text/html": [
       "<div>\n",
       "<style scoped>\n",
       "    .dataframe tbody tr th:only-of-type {\n",
       "        vertical-align: middle;\n",
       "    }\n",
       "\n",
       "    .dataframe tbody tr th {\n",
       "        vertical-align: top;\n",
       "    }\n",
       "\n",
       "    .dataframe thead th {\n",
       "        text-align: right;\n",
       "    }\n",
       "</style>\n",
       "<table border=\"1\" class=\"dataframe\">\n",
       "  <thead>\n",
       "    <tr style=\"text-align: right;\">\n",
       "      <th></th>\n",
       "      <th>bill_length_mm</th>\n",
       "      <th>bill_depth_mm</th>\n",
       "      <th>flipper_length_mm</th>\n",
       "      <th>body_mass_g</th>\n",
       "    </tr>\n",
       "  </thead>\n",
       "  <tbody>\n",
       "    <tr>\n",
       "      <th>bill_length_mm</th>\n",
       "      <td>1.000000</td>\n",
       "      <td>-0.228626</td>\n",
       "      <td>0.653096</td>\n",
       "      <td>0.589451</td>\n",
       "    </tr>\n",
       "    <tr>\n",
       "      <th>bill_depth_mm</th>\n",
       "      <td>-0.228626</td>\n",
       "      <td>1.000000</td>\n",
       "      <td>-0.577792</td>\n",
       "      <td>-0.472016</td>\n",
       "    </tr>\n",
       "    <tr>\n",
       "      <th>flipper_length_mm</th>\n",
       "      <td>0.653096</td>\n",
       "      <td>-0.577792</td>\n",
       "      <td>1.000000</td>\n",
       "      <td>0.872979</td>\n",
       "    </tr>\n",
       "    <tr>\n",
       "      <th>body_mass_g</th>\n",
       "      <td>0.589451</td>\n",
       "      <td>-0.472016</td>\n",
       "      <td>0.872979</td>\n",
       "      <td>1.000000</td>\n",
       "    </tr>\n",
       "  </tbody>\n",
       "</table>\n",
       "</div>"
      ],
      "text/plain": [
       "                   bill_length_mm  bill_depth_mm  flipper_length_mm  \\\n",
       "bill_length_mm           1.000000      -0.228626           0.653096   \n",
       "bill_depth_mm           -0.228626       1.000000          -0.577792   \n",
       "flipper_length_mm        0.653096      -0.577792           1.000000   \n",
       "body_mass_g              0.589451      -0.472016           0.872979   \n",
       "\n",
       "                   body_mass_g  \n",
       "bill_length_mm        0.589451  \n",
       "bill_depth_mm        -0.472016  \n",
       "flipper_length_mm     0.872979  \n",
       "body_mass_g           1.000000  "
      ]
     },
     "execution_count": 100,
     "metadata": {},
     "output_type": "execute_result"
    }
   ],
   "source": [
    "penguins.corr()"
   ]
  },
  {
   "cell_type": "code",
   "execution_count": 101,
   "metadata": {},
   "outputs": [
    {
     "data": {
      "text/html": [
       "<style>#sk-container-id-13 {color: black;background-color: white;}#sk-container-id-13 pre{padding: 0;}#sk-container-id-13 div.sk-toggleable {background-color: white;}#sk-container-id-13 label.sk-toggleable__label {cursor: pointer;display: block;width: 100%;margin-bottom: 0;padding: 0.3em;box-sizing: border-box;text-align: center;}#sk-container-id-13 label.sk-toggleable__label-arrow:before {content: \"▸\";float: left;margin-right: 0.25em;color: #696969;}#sk-container-id-13 label.sk-toggleable__label-arrow:hover:before {color: black;}#sk-container-id-13 div.sk-estimator:hover label.sk-toggleable__label-arrow:before {color: black;}#sk-container-id-13 div.sk-toggleable__content {max-height: 0;max-width: 0;overflow: hidden;text-align: left;background-color: #f0f8ff;}#sk-container-id-13 div.sk-toggleable__content pre {margin: 0.2em;color: black;border-radius: 0.25em;background-color: #f0f8ff;}#sk-container-id-13 input.sk-toggleable__control:checked~div.sk-toggleable__content {max-height: 200px;max-width: 100%;overflow: auto;}#sk-container-id-13 input.sk-toggleable__control:checked~label.sk-toggleable__label-arrow:before {content: \"▾\";}#sk-container-id-13 div.sk-estimator input.sk-toggleable__control:checked~label.sk-toggleable__label {background-color: #d4ebff;}#sk-container-id-13 div.sk-label input.sk-toggleable__control:checked~label.sk-toggleable__label {background-color: #d4ebff;}#sk-container-id-13 input.sk-hidden--visually {border: 0;clip: rect(1px 1px 1px 1px);clip: rect(1px, 1px, 1px, 1px);height: 1px;margin: -1px;overflow: hidden;padding: 0;position: absolute;width: 1px;}#sk-container-id-13 div.sk-estimator {font-family: monospace;background-color: #f0f8ff;border: 1px dotted black;border-radius: 0.25em;box-sizing: border-box;margin-bottom: 0.5em;}#sk-container-id-13 div.sk-estimator:hover {background-color: #d4ebff;}#sk-container-id-13 div.sk-parallel-item::after {content: \"\";width: 100%;border-bottom: 1px solid gray;flex-grow: 1;}#sk-container-id-13 div.sk-label:hover label.sk-toggleable__label {background-color: #d4ebff;}#sk-container-id-13 div.sk-serial::before {content: \"\";position: absolute;border-left: 1px solid gray;box-sizing: border-box;top: 0;bottom: 0;left: 50%;z-index: 0;}#sk-container-id-13 div.sk-serial {display: flex;flex-direction: column;align-items: center;background-color: white;padding-right: 0.2em;padding-left: 0.2em;position: relative;}#sk-container-id-13 div.sk-item {position: relative;z-index: 1;}#sk-container-id-13 div.sk-parallel {display: flex;align-items: stretch;justify-content: center;background-color: white;position: relative;}#sk-container-id-13 div.sk-item::before, #sk-container-id-13 div.sk-parallel-item::before {content: \"\";position: absolute;border-left: 1px solid gray;box-sizing: border-box;top: 0;bottom: 0;left: 50%;z-index: -1;}#sk-container-id-13 div.sk-parallel-item {display: flex;flex-direction: column;z-index: 1;position: relative;background-color: white;}#sk-container-id-13 div.sk-parallel-item:first-child::after {align-self: flex-end;width: 50%;}#sk-container-id-13 div.sk-parallel-item:last-child::after {align-self: flex-start;width: 50%;}#sk-container-id-13 div.sk-parallel-item:only-child::after {width: 0;}#sk-container-id-13 div.sk-dashed-wrapped {border: 1px dashed gray;margin: 0 0.4em 0.5em 0.4em;box-sizing: border-box;padding-bottom: 0.4em;background-color: white;}#sk-container-id-13 div.sk-label label {font-family: monospace;font-weight: bold;display: inline-block;line-height: 1.2em;}#sk-container-id-13 div.sk-label-container {text-align: center;}#sk-container-id-13 div.sk-container {/* jupyter's `normalize.less` sets `[hidden] { display: none; }` but bootstrap.min.css set `[hidden] { display: none !important; }` so we also need the `!important` here to be able to override the default hidden behavior on the sphinx rendered scikit-learn.org. See: https://github.com/scikit-learn/scikit-learn/issues/21755 */display: inline-block !important;position: relative;}#sk-container-id-13 div.sk-text-repr-fallback {display: none;}</style><div id=\"sk-container-id-13\" class=\"sk-top-container\"><div class=\"sk-text-repr-fallback\"><pre>DecisionTreeRegressor(max_depth=3)</pre><b>In a Jupyter environment, please rerun this cell to show the HTML representation or trust the notebook. <br />On GitHub, the HTML representation is unable to render, please try loading this page with nbviewer.org.</b></div><div class=\"sk-container\" hidden><div class=\"sk-item\"><div class=\"sk-estimator sk-toggleable\"><input class=\"sk-toggleable__control sk-hidden--visually\" id=\"sk-estimator-id-13\" type=\"checkbox\" checked><label for=\"sk-estimator-id-13\" class=\"sk-toggleable__label sk-toggleable__label-arrow\">DecisionTreeRegressor</label><div class=\"sk-toggleable__content\"><pre>DecisionTreeRegressor(max_depth=3)</pre></div></div></div></div></div>"
      ],
      "text/plain": [
       "DecisionTreeRegressor(max_depth=3)"
      ]
     },
     "execution_count": 101,
     "metadata": {},
     "output_type": "execute_result"
    }
   ],
   "source": [
    "features= ['flipper_length_mm', 'bill_length_mm']\n",
    "dt_regression = DecisionTreeRegressor(max_depth = 3) # Increase max_depth to see effect in the plot\n",
    "dt_regression.fit(penguins_train[features], penguins_train['body_mass_g'])"
   ]
  },
  {
   "cell_type": "code",
   "execution_count": 102,
   "metadata": {},
   "outputs": [],
   "source": [
    "from sklearn import tree\n",
    "import graphviz\n",
    "\n",
    "def plot_tree_regression(model, features):\n",
    "    # Generate plot data\n",
    "    dot_data = tree.export_graphviz(model, out_file=None, \n",
    "                          feature_names=features,  \n",
    "                          filled=True, rounded=True,  \n",
    "                          special_characters=True)  \n",
    "\n",
    "    # Turn into graph using graphviz\n",
    "    graph = graphviz.Source(dot_data)  \n",
    "\n",
    "    # Write out a pdf\n",
    "    graph.render(\"decision_tree\")\n",
    "\n",
    "    # Display in the notebook\n",
    "    return graph "
   ]
  },
  {
   "cell_type": "code",
   "execution_count": 103,
   "metadata": {},
   "outputs": [
    {
     "data": {
      "image/svg+xml": "<?xml version=\"1.0\" encoding=\"UTF-8\" standalone=\"no\"?>\n<!DOCTYPE svg PUBLIC \"-//W3C//DTD SVG 1.1//EN\"\n \"http://www.w3.org/Graphics/SVG/1.1/DTD/svg11.dtd\">\n<!-- Generated by graphviz version 7.1.0 (20230121.1956)\n -->\n<!-- Title: Tree Pages: 1 -->\n<svg width=\"1662pt\" height=\"373pt\"\n viewBox=\"0.00 0.00 1661.50 373.00\" xmlns=\"http://www.w3.org/2000/svg\" xmlns:xlink=\"http://www.w3.org/1999/xlink\">\n<g id=\"graph0\" class=\"graph\" transform=\"scale(1 1) rotate(0) translate(4 369)\">\n<title>Tree</title>\n<polygon fill=\"white\" stroke=\"none\" points=\"-4,4 -4,-369 1657.5,-369 1657.5,4 -4,4\"/>\n<!-- 0 -->\n<g id=\"node1\" class=\"node\">\n<title>0</title>\n<path fill=\"#f2c09c\" stroke=\"black\" d=\"M902.5,-365C902.5,-365 726.5,-365 726.5,-365 720.5,-365 714.5,-359 714.5,-353 714.5,-353 714.5,-309 714.5,-309 714.5,-303 720.5,-297 726.5,-297 726.5,-297 902.5,-297 902.5,-297 908.5,-297 914.5,-303 914.5,-309 914.5,-309 914.5,-353 914.5,-353 914.5,-359 908.5,-365 902.5,-365\"/>\n<text text-anchor=\"start\" x=\"729\" y=\"-349.8\" font-family=\"Helvetica,sans-Serif\" font-size=\"14.00\">flipper_length_mm ≤ 202.5</text>\n<text text-anchor=\"start\" x=\"722.5\" y=\"-334.8\" font-family=\"Helvetica,sans-Serif\" font-size=\"14.00\">squared_error = 665259.629</text>\n<text text-anchor=\"start\" x=\"767\" y=\"-319.8\" font-family=\"Helvetica,sans-Serif\" font-size=\"14.00\">samples = 233</text>\n<text text-anchor=\"start\" x=\"759\" y=\"-304.8\" font-family=\"Helvetica,sans-Serif\" font-size=\"14.00\">value = 4199.249</text>\n</g>\n<!-- 1 -->\n<g id=\"node2\" class=\"node\">\n<title>1</title>\n<path fill=\"#f7dac6\" stroke=\"black\" d=\"M684.5,-261C684.5,-261 508.5,-261 508.5,-261 502.5,-261 496.5,-255 496.5,-249 496.5,-249 496.5,-205 496.5,-205 496.5,-199 502.5,-193 508.5,-193 508.5,-193 684.5,-193 684.5,-193 690.5,-193 696.5,-199 696.5,-205 696.5,-205 696.5,-249 696.5,-249 696.5,-255 690.5,-261 684.5,-261\"/>\n<text text-anchor=\"start\" x=\"526.5\" y=\"-245.8\" font-family=\"Helvetica,sans-Serif\" font-size=\"14.00\">bill_length_mm ≤ 37.1</text>\n<text text-anchor=\"start\" x=\"504.5\" y=\"-230.8\" font-family=\"Helvetica,sans-Serif\" font-size=\"14.00\">squared_error = 177187.184</text>\n<text text-anchor=\"start\" x=\"549\" y=\"-215.8\" font-family=\"Helvetica,sans-Serif\" font-size=\"14.00\">samples = 137</text>\n<text text-anchor=\"start\" x=\"541\" y=\"-200.8\" font-family=\"Helvetica,sans-Serif\" font-size=\"14.00\">value = 3644.526</text>\n</g>\n<!-- 0&#45;&gt;1 -->\n<g id=\"edge1\" class=\"edge\">\n<title>0&#45;&gt;1</title>\n<path fill=\"none\" stroke=\"black\" d=\"M743.12,-296.6C722.42,-286.91 699.65,-276.26 678.36,-266.3\"/>\n<polygon fill=\"black\" stroke=\"black\" points=\"679.95,-263.18 669.41,-262.12 676.99,-269.52 679.95,-263.18\"/>\n<text text-anchor=\"middle\" x=\"676.56\" y=\"-281.28\" font-family=\"Helvetica,sans-Serif\" font-size=\"14.00\">True</text>\n</g>\n<!-- 8 -->\n<g id=\"node9\" class=\"node\">\n<title>8</title>\n<path fill=\"#ea9a61\" stroke=\"black\" d=\"M1112.5,-261C1112.5,-261 936.5,-261 936.5,-261 930.5,-261 924.5,-255 924.5,-249 924.5,-249 924.5,-205 924.5,-205 924.5,-199 930.5,-193 936.5,-193 936.5,-193 1112.5,-193 1112.5,-193 1118.5,-193 1124.5,-199 1124.5,-205 1124.5,-205 1124.5,-249 1124.5,-249 1124.5,-255 1118.5,-261 1112.5,-261\"/>\n<text text-anchor=\"start\" x=\"939\" y=\"-245.8\" font-family=\"Helvetica,sans-Serif\" font-size=\"14.00\">flipper_length_mm ≤ 212.5</text>\n<text text-anchor=\"start\" x=\"932.5\" y=\"-230.8\" font-family=\"Helvetica,sans-Serif\" font-size=\"14.00\">squared_error = 295952.081</text>\n<text text-anchor=\"start\" x=\"981\" y=\"-215.8\" font-family=\"Helvetica,sans-Serif\" font-size=\"14.00\">samples = 96</text>\n<text text-anchor=\"start\" x=\"969\" y=\"-200.8\" font-family=\"Helvetica,sans-Serif\" font-size=\"14.00\">value = 4990.885</text>\n</g>\n<!-- 0&#45;&gt;8 -->\n<g id=\"edge8\" class=\"edge\">\n<title>0&#45;&gt;8</title>\n<path fill=\"none\" stroke=\"black\" d=\"M883.26,-296.6C903.11,-286.96 924.94,-276.36 945.36,-266.44\"/>\n<polygon fill=\"black\" stroke=\"black\" points=\"946.76,-269.65 954.22,-262.13 943.7,-263.36 946.76,-269.65\"/>\n<text text-anchor=\"middle\" x=\"947.41\" y=\"-281.4\" font-family=\"Helvetica,sans-Serif\" font-size=\"14.00\">False</text>\n</g>\n<!-- 2 -->\n<g id=\"node3\" class=\"node\">\n<title>2</title>\n<path fill=\"#fbebdf\" stroke=\"black\" d=\"M357.5,-157C357.5,-157 189.5,-157 189.5,-157 183.5,-157 177.5,-151 177.5,-145 177.5,-145 177.5,-101 177.5,-101 177.5,-95 183.5,-89 189.5,-89 189.5,-89 357.5,-89 357.5,-89 363.5,-89 369.5,-95 369.5,-101 369.5,-101 369.5,-145 369.5,-145 369.5,-151 363.5,-157 357.5,-157\"/>\n<text text-anchor=\"start\" x=\"188\" y=\"-141.8\" font-family=\"Helvetica,sans-Serif\" font-size=\"14.00\">flipper_length_mm ≤ 181.5</text>\n<text text-anchor=\"start\" x=\"185.5\" y=\"-126.8\" font-family=\"Helvetica,sans-Serif\" font-size=\"14.00\">squared_error = 85673.077</text>\n<text text-anchor=\"start\" x=\"230\" y=\"-111.8\" font-family=\"Helvetica,sans-Serif\" font-size=\"14.00\">samples = 26</text>\n<text text-anchor=\"start\" x=\"226.5\" y=\"-96.8\" font-family=\"Helvetica,sans-Serif\" font-size=\"14.00\">value = 3300.0</text>\n</g>\n<!-- 1&#45;&gt;2 -->\n<g id=\"edge2\" class=\"edge\">\n<title>1&#45;&gt;2</title>\n<path fill=\"none\" stroke=\"black\" d=\"M496.07,-194.29C459.5,-182.74 418.02,-169.64 380.86,-157.9\"/>\n<polygon fill=\"black\" stroke=\"black\" points=\"382.03,-154.6 371.44,-154.93 379.92,-161.28 382.03,-154.6\"/>\n</g>\n<!-- 5 -->\n<g id=\"node6\" class=\"node\">\n<title>5</title>\n<path fill=\"#f7d7c0\" stroke=\"black\" d=\"M684.5,-157C684.5,-157 508.5,-157 508.5,-157 502.5,-157 496.5,-151 496.5,-145 496.5,-145 496.5,-101 496.5,-101 496.5,-95 502.5,-89 508.5,-89 508.5,-89 684.5,-89 684.5,-89 690.5,-89 696.5,-95 696.5,-101 696.5,-101 696.5,-145 696.5,-145 696.5,-151 690.5,-157 684.5,-157\"/>\n<text text-anchor=\"start\" x=\"511\" y=\"-141.8\" font-family=\"Helvetica,sans-Serif\" font-size=\"14.00\">flipper_length_mm ≤ 193.5</text>\n<text text-anchor=\"start\" x=\"504.5\" y=\"-126.8\" font-family=\"Helvetica,sans-Serif\" font-size=\"14.00\">squared_error = 164307.382</text>\n<text text-anchor=\"start\" x=\"549\" y=\"-111.8\" font-family=\"Helvetica,sans-Serif\" font-size=\"14.00\">samples = 111</text>\n<text text-anchor=\"start\" x=\"541\" y=\"-96.8\" font-family=\"Helvetica,sans-Serif\" font-size=\"14.00\">value = 3725.225</text>\n</g>\n<!-- 1&#45;&gt;5 -->\n<g id=\"edge5\" class=\"edge\">\n<title>1&#45;&gt;5</title>\n<path fill=\"none\" stroke=\"black\" d=\"M596.5,-192.6C596.5,-185.03 596.5,-176.87 596.5,-168.9\"/>\n<polygon fill=\"black\" stroke=\"black\" points=\"600,-168.99 596.5,-158.99 593,-168.99 600,-168.99\"/>\n</g>\n<!-- 3 -->\n<g id=\"node4\" class=\"node\">\n<title>3</title>\n<path fill=\"#ffffff\" stroke=\"black\" d=\"M147,-53C147,-53 12,-53 12,-53 6,-53 0,-47 0,-41 0,-41 0,-12 0,-12 0,-6 6,0 12,0 12,0 147,0 147,0 153,0 159,-6 159,-12 159,-12 159,-41 159,-41 159,-47 153,-53 147,-53\"/>\n<text text-anchor=\"start\" x=\"8\" y=\"-37.8\" font-family=\"Helvetica,sans-Serif\" font-size=\"14.00\">squared_error = 625.0</text>\n<text text-anchor=\"start\" x=\"40\" y=\"-22.8\" font-family=\"Helvetica,sans-Serif\" font-size=\"14.00\">samples = 2</text>\n<text text-anchor=\"start\" x=\"32.5\" y=\"-7.8\" font-family=\"Helvetica,sans-Serif\" font-size=\"14.00\">value = 2875.0</text>\n</g>\n<!-- 2&#45;&gt;3 -->\n<g id=\"edge3\" class=\"edge\">\n<title>2&#45;&gt;3</title>\n<path fill=\"none\" stroke=\"black\" d=\"M204.83,-88.55C184.69,-78.74 162.76,-68.06 142.96,-58.41\"/>\n<polygon fill=\"black\" stroke=\"black\" points=\"144.7,-55.37 134.18,-54.13 141.64,-61.66 144.7,-55.37\"/>\n</g>\n<!-- 4 -->\n<g id=\"node5\" class=\"node\">\n<title>4</title>\n<path fill=\"#fae9dd\" stroke=\"black\" d=\"M357.5,-53C357.5,-53 189.5,-53 189.5,-53 183.5,-53 177.5,-47 177.5,-41 177.5,-41 177.5,-12 177.5,-12 177.5,-6 183.5,0 189.5,0 189.5,0 357.5,0 357.5,0 363.5,0 369.5,-6 369.5,-12 369.5,-12 369.5,-41 369.5,-41 369.5,-47 363.5,-53 357.5,-53\"/>\n<text text-anchor=\"start\" x=\"185.5\" y=\"-37.8\" font-family=\"Helvetica,sans-Serif\" font-size=\"14.00\">squared_error = 76453.993</text>\n<text text-anchor=\"start\" x=\"230\" y=\"-22.8\" font-family=\"Helvetica,sans-Serif\" font-size=\"14.00\">samples = 24</text>\n<text text-anchor=\"start\" x=\"218\" y=\"-7.8\" font-family=\"Helvetica,sans-Serif\" font-size=\"14.00\">value = 3335.417</text>\n</g>\n<!-- 2&#45;&gt;4 -->\n<g id=\"edge4\" class=\"edge\">\n<title>2&#45;&gt;4</title>\n<path fill=\"none\" stroke=\"black\" d=\"M273.5,-88.68C273.5,-80.99 273.5,-72.76 273.5,-64.9\"/>\n<polygon fill=\"black\" stroke=\"black\" points=\"277,-64.91 273.5,-54.91 270,-64.91 277,-64.91\"/>\n</g>\n<!-- 6 -->\n<g id=\"node7\" class=\"node\">\n<title>6</title>\n<path fill=\"#f8dcc7\" stroke=\"black\" d=\"M575.5,-53C575.5,-53 399.5,-53 399.5,-53 393.5,-53 387.5,-47 387.5,-41 387.5,-41 387.5,-12 387.5,-12 387.5,-6 393.5,0 399.5,0 399.5,0 575.5,0 575.5,0 581.5,0 587.5,-6 587.5,-12 587.5,-12 587.5,-41 587.5,-41 587.5,-47 581.5,-53 575.5,-53\"/>\n<text text-anchor=\"start\" x=\"395.5\" y=\"-37.8\" font-family=\"Helvetica,sans-Serif\" font-size=\"14.00\">squared_error = 155622.559</text>\n<text text-anchor=\"start\" x=\"444\" y=\"-22.8\" font-family=\"Helvetica,sans-Serif\" font-size=\"14.00\">samples = 64</text>\n<text text-anchor=\"start\" x=\"432\" y=\"-7.8\" font-family=\"Helvetica,sans-Serif\" font-size=\"14.00\">value = 3620.312</text>\n</g>\n<!-- 5&#45;&gt;6 -->\n<g id=\"edge6\" class=\"edge\">\n<title>5&#45;&gt;6</title>\n<path fill=\"none\" stroke=\"black\" d=\"M558.07,-88.68C547.63,-79.63 536.33,-69.83 525.89,-60.79\"/>\n<polygon fill=\"black\" stroke=\"black\" points=\"528.36,-58.29 518.51,-54.39 523.77,-63.58 528.36,-58.29\"/>\n</g>\n<!-- 7 -->\n<g id=\"node8\" class=\"node\">\n<title>7</title>\n<path fill=\"#f5d0b5\" stroke=\"black\" d=\"M793.5,-53C793.5,-53 617.5,-53 617.5,-53 611.5,-53 605.5,-47 605.5,-41 605.5,-41 605.5,-12 605.5,-12 605.5,-6 611.5,0 617.5,0 617.5,0 793.5,0 793.5,0 799.5,0 805.5,-6 805.5,-12 805.5,-12 805.5,-41 805.5,-41 805.5,-47 799.5,-53 793.5,-53\"/>\n<text text-anchor=\"start\" x=\"613.5\" y=\"-37.8\" font-family=\"Helvetica,sans-Serif\" font-size=\"14.00\">squared_error = 140736.759</text>\n<text text-anchor=\"start\" x=\"662\" y=\"-22.8\" font-family=\"Helvetica,sans-Serif\" font-size=\"14.00\">samples = 47</text>\n<text text-anchor=\"start\" x=\"650\" y=\"-7.8\" font-family=\"Helvetica,sans-Serif\" font-size=\"14.00\">value = 3868.085</text>\n</g>\n<!-- 5&#45;&gt;7 -->\n<g id=\"edge7\" class=\"edge\">\n<title>5&#45;&gt;7</title>\n<path fill=\"none\" stroke=\"black\" d=\"M634.93,-88.68C645.37,-79.63 656.67,-69.83 667.11,-60.79\"/>\n<polygon fill=\"black\" stroke=\"black\" points=\"669.23,-63.58 674.49,-54.39 664.64,-58.29 669.23,-63.58\"/>\n</g>\n<!-- 9 -->\n<g id=\"node10\" class=\"node\">\n<title>9</title>\n<path fill=\"#efb185\" stroke=\"black\" d=\"M1112.5,-157C1112.5,-157 936.5,-157 936.5,-157 930.5,-157 924.5,-151 924.5,-145 924.5,-145 924.5,-101 924.5,-101 924.5,-95 930.5,-89 936.5,-89 936.5,-89 1112.5,-89 1112.5,-89 1118.5,-89 1124.5,-95 1124.5,-101 1124.5,-101 1124.5,-145 1124.5,-145 1124.5,-151 1118.5,-157 1112.5,-157\"/>\n<text text-anchor=\"start\" x=\"950.5\" y=\"-141.8\" font-family=\"Helvetica,sans-Serif\" font-size=\"14.00\">bill_length_mm ≤ 48.85</text>\n<text text-anchor=\"start\" x=\"932.5\" y=\"-126.8\" font-family=\"Helvetica,sans-Serif\" font-size=\"14.00\">squared_error = 137405.478</text>\n<text text-anchor=\"start\" x=\"981\" y=\"-111.8\" font-family=\"Helvetica,sans-Serif\" font-size=\"14.00\">samples = 36</text>\n<text text-anchor=\"start\" x=\"969\" y=\"-96.8\" font-family=\"Helvetica,sans-Serif\" font-size=\"14.00\">value = 4515.278</text>\n</g>\n<!-- 8&#45;&gt;9 -->\n<g id=\"edge9\" class=\"edge\">\n<title>8&#45;&gt;9</title>\n<path fill=\"none\" stroke=\"black\" d=\"M1024.5,-192.6C1024.5,-185.03 1024.5,-176.87 1024.5,-168.9\"/>\n<polygon fill=\"black\" stroke=\"black\" points=\"1028,-168.99 1024.5,-158.99 1021,-168.99 1028,-168.99\"/>\n</g>\n<!-- 12 -->\n<g id=\"node13\" class=\"node\">\n<title>12</title>\n<path fill=\"#e78d4c\" stroke=\"black\" d=\"M1431.5,-157C1431.5,-157 1255.5,-157 1255.5,-157 1249.5,-157 1243.5,-151 1243.5,-145 1243.5,-145 1243.5,-101 1243.5,-101 1243.5,-95 1249.5,-89 1255.5,-89 1255.5,-89 1431.5,-89 1431.5,-89 1437.5,-89 1443.5,-95 1443.5,-101 1443.5,-101 1443.5,-145 1443.5,-145 1443.5,-151 1437.5,-157 1431.5,-157\"/>\n<text text-anchor=\"start\" x=\"1273.5\" y=\"-141.8\" font-family=\"Helvetica,sans-Serif\" font-size=\"14.00\">bill_length_mm ≤ 48.3</text>\n<text text-anchor=\"start\" x=\"1251.5\" y=\"-126.8\" font-family=\"Helvetica,sans-Serif\" font-size=\"14.00\">squared_error = 173925.521</text>\n<text text-anchor=\"start\" x=\"1300\" y=\"-111.8\" font-family=\"Helvetica,sans-Serif\" font-size=\"14.00\">samples = 60</text>\n<text text-anchor=\"start\" x=\"1292\" y=\"-96.8\" font-family=\"Helvetica,sans-Serif\" font-size=\"14.00\">value = 5276.25</text>\n</g>\n<!-- 8&#45;&gt;12 -->\n<g id=\"edge12\" class=\"edge\">\n<title>8&#45;&gt;12</title>\n<path fill=\"none\" stroke=\"black\" d=\"M1125,-193.87C1159.17,-182.94 1197.56,-170.67 1232.51,-159.49\"/>\n<polygon fill=\"black\" stroke=\"black\" points=\"1233.33,-162.9 1241.79,-156.52 1231.2,-156.23 1233.33,-162.9\"/>\n</g>\n<!-- 10 -->\n<g id=\"node11\" class=\"node\">\n<title>10</title>\n<path fill=\"#eeae80\" stroke=\"black\" d=\"M1011.5,-53C1011.5,-53 835.5,-53 835.5,-53 829.5,-53 823.5,-47 823.5,-41 823.5,-41 823.5,-12 823.5,-12 823.5,-6 829.5,0 835.5,0 835.5,0 1011.5,0 1011.5,0 1017.5,0 1023.5,-6 1023.5,-12 1023.5,-12 1023.5,-41 1023.5,-41 1023.5,-47 1017.5,-53 1011.5,-53\"/>\n<text text-anchor=\"start\" x=\"831.5\" y=\"-37.8\" font-family=\"Helvetica,sans-Serif\" font-size=\"14.00\">squared_error = 130805.963</text>\n<text text-anchor=\"start\" x=\"880\" y=\"-22.8\" font-family=\"Helvetica,sans-Serif\" font-size=\"14.00\">samples = 28</text>\n<text text-anchor=\"start\" x=\"868\" y=\"-7.8\" font-family=\"Helvetica,sans-Serif\" font-size=\"14.00\">value = 4579.464</text>\n</g>\n<!-- 9&#45;&gt;10 -->\n<g id=\"edge10\" class=\"edge\">\n<title>9&#45;&gt;10</title>\n<path fill=\"none\" stroke=\"black\" d=\"M988.89,-88.68C979.32,-79.72 968.95,-70.03 959.36,-61.06\"/>\n<polygon fill=\"black\" stroke=\"black\" points=\"961.97,-58.7 952.28,-54.43 957.19,-63.82 961.97,-58.7\"/>\n</g>\n<!-- 11 -->\n<g id=\"node12\" class=\"node\">\n<title>11</title>\n<path fill=\"#f1bc95\" stroke=\"black\" d=\"M1221.5,-53C1221.5,-53 1053.5,-53 1053.5,-53 1047.5,-53 1041.5,-47 1041.5,-41 1041.5,-41 1041.5,-12 1041.5,-12 1041.5,-6 1047.5,0 1053.5,0 1053.5,0 1221.5,0 1221.5,0 1227.5,0 1233.5,-6 1233.5,-12 1233.5,-12 1233.5,-41 1233.5,-41 1233.5,-47 1227.5,-53 1221.5,-53\"/>\n<text text-anchor=\"start\" x=\"1049.5\" y=\"-37.8\" font-family=\"Helvetica,sans-Serif\" font-size=\"14.00\">squared_error = 95615.234</text>\n<text text-anchor=\"start\" x=\"1098\" y=\"-22.8\" font-family=\"Helvetica,sans-Serif\" font-size=\"14.00\">samples = 8</text>\n<text text-anchor=\"start\" x=\"1082\" y=\"-7.8\" font-family=\"Helvetica,sans-Serif\" font-size=\"14.00\">value = 4290.625</text>\n</g>\n<!-- 9&#45;&gt;11 -->\n<g id=\"edge11\" class=\"edge\">\n<title>9&#45;&gt;11</title>\n<path fill=\"none\" stroke=\"black\" d=\"M1064.34,-88.68C1075.27,-79.54 1087.11,-69.64 1098.02,-60.51\"/>\n<polygon fill=\"black\" stroke=\"black\" points=\"1099.95,-63.46 1105.38,-54.36 1095.46,-58.1 1099.95,-63.46\"/>\n</g>\n<!-- 13 -->\n<g id=\"node14\" class=\"node\">\n<title>13</title>\n<path fill=\"#ea9b61\" stroke=\"black\" d=\"M1423.5,-53C1423.5,-53 1263.5,-53 1263.5,-53 1257.5,-53 1251.5,-47 1251.5,-41 1251.5,-41 1251.5,-12 1251.5,-12 1251.5,-6 1257.5,0 1263.5,0 1263.5,0 1423.5,0 1423.5,0 1429.5,0 1435.5,-6 1435.5,-12 1435.5,-12 1435.5,-41 1435.5,-41 1435.5,-47 1429.5,-53 1423.5,-53\"/>\n<text text-anchor=\"start\" x=\"1259.5\" y=\"-37.8\" font-family=\"Helvetica,sans-Serif\" font-size=\"14.00\">squared_error = 84036.99</text>\n<text text-anchor=\"start\" x=\"1300\" y=\"-22.8\" font-family=\"Helvetica,sans-Serif\" font-size=\"14.00\">samples = 28</text>\n<text text-anchor=\"start\" x=\"1288\" y=\"-7.8\" font-family=\"Helvetica,sans-Serif\" font-size=\"14.00\">value = 4989.286</text>\n</g>\n<!-- 12&#45;&gt;13 -->\n<g id=\"edge13\" class=\"edge\">\n<title>12&#45;&gt;13</title>\n<path fill=\"none\" stroke=\"black\" d=\"M1343.5,-88.68C1343.5,-80.99 1343.5,-72.76 1343.5,-64.9\"/>\n<polygon fill=\"black\" stroke=\"black\" points=\"1347,-64.91 1343.5,-54.91 1340,-64.91 1347,-64.91\"/>\n</g>\n<!-- 14 -->\n<g id=\"node15\" class=\"node\">\n<title>14</title>\n<path fill=\"#e58139\" stroke=\"black\" d=\"M1641.5,-53C1641.5,-53 1465.5,-53 1465.5,-53 1459.5,-53 1453.5,-47 1453.5,-41 1453.5,-41 1453.5,-12 1453.5,-12 1453.5,-6 1459.5,0 1465.5,0 1465.5,0 1641.5,0 1641.5,0 1647.5,0 1653.5,-6 1653.5,-12 1653.5,-12 1653.5,-41 1653.5,-41 1653.5,-47 1647.5,-53 1641.5,-53\"/>\n<text text-anchor=\"start\" x=\"1461.5\" y=\"-37.8\" font-family=\"Helvetica,sans-Serif\" font-size=\"14.00\">squared_error = 117474.976</text>\n<text text-anchor=\"start\" x=\"1510\" y=\"-22.8\" font-family=\"Helvetica,sans-Serif\" font-size=\"14.00\">samples = 32</text>\n<text text-anchor=\"start\" x=\"1498\" y=\"-7.8\" font-family=\"Helvetica,sans-Serif\" font-size=\"14.00\">value = 5527.344</text>\n</g>\n<!-- 12&#45;&gt;14 -->\n<g id=\"edge14\" class=\"edge\">\n<title>12&#45;&gt;14</title>\n<path fill=\"none\" stroke=\"black\" d=\"M1417.83,-88.55C1439.84,-78.65 1463.81,-67.86 1485.4,-58.15\"/>\n<polygon fill=\"black\" stroke=\"black\" points=\"1486.72,-61.39 1494.4,-54.09 1483.85,-55 1486.72,-61.39\"/>\n</g>\n</g>\n</svg>\n",
      "text/plain": [
       "<graphviz.sources.Source at 0x2a93e0df340>"
      ]
     },
     "execution_count": 103,
     "metadata": {},
     "output_type": "execute_result"
    }
   ],
   "source": [
    "plot_tree_regression(dt_regression, features)"
   ]
  },
  {
   "cell_type": "code",
   "execution_count": 104,
   "metadata": {},
   "outputs": [],
   "source": [
    "def calculate_rmse(predictions, actuals):\n",
    "    if(len(predictions) != len(actuals)):\n",
    "        raise Exception(\"The amount of predictions did not equal the amount of actuals\")\n",
    "    \n",
    "    return (((predictions - actuals) ** 2).sum() / len(actuals)) ** (1/2)"
   ]
  },
  {
   "cell_type": "code",
   "execution_count": 105,
   "metadata": {},
   "outputs": [
    {
     "name": "stdout",
     "output_type": "stream",
     "text": [
      "RMSE on training set 352.49168872939606\n",
      "RMSE on test set 360.7449386097482\n"
     ]
    }
   ],
   "source": [
    "predictionsOnTrainset = dt_regression.predict(penguins_train[features])\n",
    "predictionsOnTestset = dt_regression.predict(penguins_test[features])\n",
    "\n",
    "rmseTrain = calculate_rmse(predictionsOnTrainset, penguins_train.body_mass_g)\n",
    "rmseTest = calculate_rmse(predictionsOnTestset, penguins_test.body_mass_g)\n",
    "\n",
    "print(\"RMSE on training set \" + str(rmseTrain))\n",
    "print(\"RMSE on test set \" + str(rmseTest))"
   ]
  }
 ],
 "metadata": {
  "kernelspec": {
   "display_name": "Python 3",
   "language": "python",
   "name": "python3"
  },
  "language_info": {
   "codemirror_mode": {
    "name": "ipython",
    "version": 3
   },
   "file_extension": ".py",
   "mimetype": "text/x-python",
   "name": "python",
   "nbconvert_exporter": "python",
   "pygments_lexer": "ipython3",
   "version": "3.10.10"
  },
  "orig_nbformat": 4
 },
 "nbformat": 4,
 "nbformat_minor": 2
}
